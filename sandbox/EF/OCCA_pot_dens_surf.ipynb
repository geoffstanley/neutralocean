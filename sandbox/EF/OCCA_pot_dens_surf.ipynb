{
 "cells": [
  {
   "cell_type": "code",
   "execution_count": null,
   "id": "aa032a30",
   "metadata": {},
   "outputs": [],
   "source": [
    "%matplotlib notebook\n",
    "\n",
    "import numpy as np\n",
    "import xarray as xr\n",
    "import matplotlib.pyplot as plt\n",
    "\n",
    "import gsw\n",
    "from neutral_surfaces import pot_dens_surf"
   ]
  },
  {
   "cell_type": "code",
   "execution_count": null,
   "id": "82ecebff",
   "metadata": {},
   "outputs": [],
   "source": [
    "OCCA_dir = \"~/work/data/OCCA/\"\n",
    "xrs = xr.open_dataset(OCCA_dir + \"DDsalt.0406annclim.nc\")\n",
    "xrt = xr.open_dataset(OCCA_dir + \"DDtheta.0406annclim.nc\")"
   ]
  },
  {
   "cell_type": "code",
   "execution_count": null,
   "id": "9954f3eb",
   "metadata": {},
   "outputs": [],
   "source": [
    "xrst = xr.merge((xrs, xrt))\n",
    "xrst = xrst.assign(p=gsw.p_from_z(-xrst.Depth_c, 30))"
   ]
  },
  {
   "cell_type": "code",
   "execution_count": null,
   "id": "53815abe",
   "metadata": {},
   "outputs": [],
   "source": [
    "xrst"
   ]
  },
  {
   "cell_type": "code",
   "execution_count": null,
   "id": "a7e3e8de",
   "metadata": {},
   "outputs": [],
   "source": [
    "%%timeit\n",
    "s, t, p = pot_dens_surf(xrst.salt.values, \n",
    "                        xrst.theta.values, \n",
    "                        xrst.p.values, \n",
    "                        0, 1026, axis=1, tol=1e-4)"
   ]
  },
  {
   "cell_type": "markdown",
   "id": "f6678306",
   "metadata": {},
   "source": [
    "eos_option branch:\n",
    "`148 ms ± 531 µs per loop (mean ± std. dev. of 7 runs, 10 loops each)`\n",
    "\n",
    "main branch, aae2f414, (without the eos option and the use of make_sigma_workers):\n",
    "timing is virtually identical.\n"
   ]
  },
  {
   "cell_type": "code",
   "execution_count": null,
   "id": "e1cbb71b",
   "metadata": {},
   "outputs": [],
   "source": [
    "# Here we discard the unneeded time axis.\n",
    "s, t, p = pot_dens_surf(xrst.salt.values[0], \n",
    "                        xrst.theta.values[0], \n",
    "                        xrst.p.values, \n",
    "                        0, 1026, axis=0, tol=1e-4)\n"
   ]
  },
  {
   "cell_type": "code",
   "execution_count": null,
   "id": "81cbd7af",
   "metadata": {},
   "outputs": [],
   "source": [
    "print(xrst.salt.values.shape, xrst.theta.values.shape, xrst.p.values.shape)\n",
    "print(s.shape, t.shape, p.shape)\n"
   ]
  },
  {
   "cell_type": "code",
   "execution_count": null,
   "id": "ec32284e",
   "metadata": {},
   "outputs": [],
   "source": [
    "fig, ax = plt.subplots()\n",
    "cs = ax.contourf(xrst.Longitude_t.values, xrst.Latitude_t.values, p)\n",
    "cbar = fig.colorbar(cs, ax=ax)\n",
    "cbar.set_label(\"Pressure [dbar]\")\n",
    "ax.set_title(r\"Depth of $\\sigma_\\theta = 26$ in OCCA\")"
   ]
  },
  {
   "cell_type": "code",
   "execution_count": null,
   "id": "74178e59",
   "metadata": {},
   "outputs": [],
   "source": [
    "%%timeit\n",
    "s, t, p = pot_dens_surf(xrst.salt.values, \n",
    "                        xrst.theta.values, \n",
    "                        xrst.p.values, \n",
    "                        0, 1026, \n",
    "                        eos=\"gsw\",\n",
    "                        axis=1, tol=1e-4)"
   ]
  },
  {
   "cell_type": "markdown",
   "id": "c23f1f4d",
   "metadata": {},
   "source": [
    "eos_option branch:\n",
    "`116 ms ± 1.06 ms per loop (mean ± std. dev. of 7 runs, 10 loops each)`"
   ]
  },
  {
   "cell_type": "code",
   "execution_count": null,
   "id": "1e73f24d",
   "metadata": {},
   "outputs": [],
   "source": [
    "%%timeit\n",
    "s, t, p = pot_dens_surf(xrst.salt.values, \n",
    "                        xrst.theta.values, \n",
    "                        xrst.p.values, \n",
    "                        (35, 0), -2, \n",
    "                        eos=\"gsw\",\n",
    "                        axis=1, tol=1e-4)"
   ]
  },
  {
   "cell_type": "code",
   "execution_count": null,
   "id": "8e6e4a9e",
   "metadata": {},
   "outputs": [],
   "source": [
    "\n",
    "s, t, p = pot_dens_surf(xrst.salt.values[0], \n",
    "                        xrst.theta.values[0], \n",
    "                        xrst.p.values, \n",
    "                        (35, 0), -2, \n",
    "                        eos=\"gsw\",\n",
    "                        axis=0, tol=1e-4)"
   ]
  },
  {
   "cell_type": "markdown",
   "id": "520363b0",
   "metadata": {},
   "source": [
    "The target, -2 kg/m$^3$, is the difference between in-situ density and the\n",
    "reference density based on S=35, T=0. Call this $x$. Then the specific volume anomaly is \n",
    "$$\n",
    "\\delta = \\frac{-x}{\\rho(S, T, p)\\, \\rho(35, 0, p)}\n",
    "$$\n",
    "Hence, -2 corresponds to roughly 200 centiliters/ton.  This calculation is not quite the same as finding a uniform $\\delta$ surface.  Also, in this test, we are ignoring the fact that the model data set is supplying potential temperature, but we should be using in-situ temperature."
   ]
  },
  {
   "cell_type": "code",
   "execution_count": null,
   "id": "b99d04d7",
   "metadata": {},
   "outputs": [],
   "source": [
    "print(xrst.salt.values.shape, xrst.theta.values.shape, xrst.p.values.shape)\n",
    "print(s.shape, t.shape, p.shape)\n"
   ]
  },
  {
   "cell_type": "code",
   "execution_count": null,
   "id": "6d100fd1",
   "metadata": {},
   "outputs": [],
   "source": [
    "fig, ax = plt.subplots()\n",
    "cs = ax.contourf(xrst.Longitude_t.values, xrst.Latitude_t.values, p)\n",
    "cbar = fig.colorbar(cs, ax=ax)\n",
    "cbar.set_label(\"Pressure [dbar]\")\n",
    "ax.set_title(r\"Depth of $\\delta \\approx 200$ centiliters/ton in OCCA\")"
   ]
  },
  {
   "cell_type": "code",
   "execution_count": null,
   "id": "4fa1909d",
   "metadata": {},
   "outputs": [],
   "source": []
  }
 ],
 "metadata": {
  "kernelspec": {
   "display_name": "Python 3",
   "language": "python",
   "name": "python3"
  },
  "language_info": {
   "codemirror_mode": {
    "name": "ipython",
    "version": 3
   },
   "file_extension": ".py",
   "mimetype": "text/x-python",
   "name": "python",
   "nbconvert_exporter": "python",
   "pygments_lexer": "ipython3",
   "version": "3.7.10"
  }
 },
 "nbformat": 4,
 "nbformat_minor": 5
}
