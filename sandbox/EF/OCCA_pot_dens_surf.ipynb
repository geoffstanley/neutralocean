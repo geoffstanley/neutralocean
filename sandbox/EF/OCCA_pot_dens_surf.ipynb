{
 "cells": [
  {
   "cell_type": "code",
   "execution_count": null,
   "id": "aa032a30",
   "metadata": {},
   "outputs": [],
   "source": [
    "%matplotlib notebook\n",
    "\n",
    "import numpy as np\n",
    "import xarray as xr\n",
    "import matplotlib.pyplot as plt\n",
    "\n",
    "import gsw\n",
    "from neutral_surfaces import pot_dens_surf"
   ]
  },
  {
   "cell_type": "code",
   "execution_count": null,
   "id": "82ecebff",
   "metadata": {},
   "outputs": [],
   "source": [
    "OCCA_dir = \"~/work/data/OCCA/\"\n",
    "xrs = xr.open_dataset(OCCA_dir + \"DDsalt.0406annclim.nc\")\n",
    "xrt = xr.open_dataset(OCCA_dir + \"DDtheta.0406annclim.nc\")"
   ]
  },
  {
   "cell_type": "code",
   "execution_count": null,
   "id": "9954f3eb",
   "metadata": {},
   "outputs": [],
   "source": [
    "xrst = xr.merge((xrs, xrt))\n",
    "xrst = xrst.assign(p=gsw.p_from_z(-xrst.Depth_c, 30))"
   ]
  },
  {
   "cell_type": "code",
   "execution_count": null,
   "id": "53815abe",
   "metadata": {},
   "outputs": [],
   "source": [
    "xrst"
   ]
  },
  {
   "cell_type": "code",
   "execution_count": null,
   "id": "a7e3e8de",
   "metadata": {},
   "outputs": [],
   "source": [
    "%%timeit\n",
    "s, t, p = pot_dens_surf(xrst.salt.values, \n",
    "                        xrst.theta.values, \n",
    "                        xrst.p.values, \n",
    "                        0, 1026, axis=1, tol=1e-4)"
   ]
  },
  {
   "cell_type": "code",
   "execution_count": null,
   "id": "e1cbb71b",
   "metadata": {},
   "outputs": [],
   "source": [
    "# Here we discard the unneeded time axis.\n",
    "s, t, p = pot_dens_surf(xrst.salt.values[0], \n",
    "                        xrst.theta.values[0], \n",
    "                        xrst.p.values, \n",
    "                        0, 1026, axis=0, tol=1e-4)"
   ]
  },
  {
   "cell_type": "code",
   "execution_count": null,
   "id": "ec32284e",
   "metadata": {},
   "outputs": [],
   "source": [
    "fig, ax = plt.subplots()\n",
    "cs = ax.contourf(xrst.Longitude_t.values, xrst.Latitude_t.values, p)\n",
    "cbar = fig.colorbar(cs, ax=ax)\n",
    "cbar.set_label(\"Pressure [dbar]\")\n",
    "ax.set_title(r\"Depth of $\\sigma_\\theta = 26$ in OCCA\")"
   ]
  },
  {
   "cell_type": "code",
   "execution_count": null,
   "id": "6d100fd1",
   "metadata": {},
   "outputs": [],
   "source": []
  }
 ],
 "metadata": {
  "kernelspec": {
   "display_name": "Python 3",
   "language": "python",
   "name": "python3"
  },
  "language_info": {
   "codemirror_mode": {
    "name": "ipython",
    "version": 3
   },
   "file_extension": ".py",
   "mimetype": "text/x-python",
   "name": "python",
   "nbconvert_exporter": "python",
   "pygments_lexer": "ipython3",
   "version": "3.7.10"
  }
 },
 "nbformat": 4,
 "nbformat_minor": 5
}
