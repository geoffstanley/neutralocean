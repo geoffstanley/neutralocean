{
 "cells": [
  {
   "cell_type": "code",
   "execution_count": null,
   "id": "rocky-norman",
   "metadata": {},
   "outputs": [],
   "source": [
    "import numba\n",
    "import gsw\n",
    "import numpy as np\n",
    "import cffi"
   ]
  },
  {
   "cell_type": "markdown",
   "id": "foreign-sound",
   "metadata": {},
   "source": [
    "Start with an example from older numba docs:\n",
    "http://numba.pydata.org/numba-doc/0.12.1/interface_c.html\n",
    "I haven't found anything similar in the current docs:\n",
    "https://numba.readthedocs.io/en/stable/reference/pysupported.html?highlight=cffi"
   ]
  },
  {
   "cell_type": "code",
   "execution_count": null,
   "id": "defensive-quilt",
   "metadata": {},
   "outputs": [],
   "source": [
    "# Example from older numba docs.\n",
    "from numba import jit\n",
    "from cffi import FFI\n",
    "\n",
    "ffi = FFI()\n",
    "ffi.cdef('double sin(double x);')\n",
    "\n",
    "# loads the entire C namespace\n",
    "C = ffi.dlopen(None)\n",
    "c_sin = C.sin\n",
    "\n",
    "@jit(nopython=True)\n",
    "def cffi_sin_example(x):\n",
    "    return c_sin(x)\n",
    "\n",
    "cffi_sin_example(2.2)"
   ]
  },
  {
   "cell_type": "markdown",
   "id": "committed-mentor",
   "metadata": {},
   "source": [
    "Modify the example for a single function from gsw."
   ]
  },
  {
   "cell_type": "code",
   "execution_count": null,
   "id": "crude-archives",
   "metadata": {},
   "outputs": [],
   "source": [
    "ffi = cffi.FFI()\n",
    "ffi.cdef(\"\"\"\n",
    "     double gsw_rho(double s, double t, double p);\n",
    " \"\"\")\n",
    "C = ffi.dlopen(\"libgswteos-10.so\")\n",
    "s, t, p = 35, 25, 1600\n",
    "sf, tf, pf = 35.0, 25.0, 1600.0\n",
    "rho = C.gsw_rho(s, t, p)\n",
    "print(type(C))\n",
    "print(rho)"
   ]
  },
  {
   "cell_type": "code",
   "execution_count": null,
   "id": "brutal-grenada",
   "metadata": {},
   "outputs": [],
   "source": [
    "%timeit C.gsw_rho(s, t, p)\n",
    "%timeit C.gsw_rho(sf, tf, pf)"
   ]
  },
  {
   "cell_type": "code",
   "execution_count": null,
   "id": "biological-cathedral",
   "metadata": {},
   "outputs": [],
   "source": [
    "%timeit gsw.rho(s, t, p)"
   ]
  },
  {
   "cell_type": "markdown",
   "id": "quick-hostel",
   "metadata": {},
   "source": [
    "For scalar arguments, this cffi ABI access is much faster than the gsw module.\n",
    "\n",
    "Use a loop to work with matching vector arguments:"
   ]
  },
  {
   "cell_type": "code",
   "execution_count": null,
   "id": "going-photograph",
   "metadata": {},
   "outputs": [],
   "source": [
    "def manyrho(s, t, p):\n",
    "    out = np.empty(s.shape, float)\n",
    "    for i in range(len(s)):\n",
    "        out[i] = C.gsw_rho(s[i], t[i], p[i])\n",
    "    return out"
   ]
  },
  {
   "cell_type": "code",
   "execution_count": null,
   "id": "measured-conversation",
   "metadata": {},
   "outputs": [],
   "source": [
    "s = np.ones((1000,)) * 35\n",
    "t = np.ones_like(s) * 25\n",
    "p = np.linspace(0, 2500, len(s))\n",
    "\n",
    "%timeit manyrho(s, t, p)\n",
    "%timeit gsw.rho(s, t, p)\n",
    "# 531 µs ± 2.18 µs per loop (mean ± std. dev. of 7 runs, 1000 loops each)\n",
    "# 49.6 µs ± 790 ns per loop (mean ± std. dev. of 7 runs, 10000 loops each)\n"
   ]
  },
  {
   "cell_type": "markdown",
   "id": "anonymous-nirvana",
   "metadata": {},
   "source": [
    "```\n",
    "# 531 µs ± 2.18 µs per loop (mean ± std. dev. of 7 runs, 1000 loops each)\n",
    "# 49.6 µs ± 790 ns per loop (mean ± std. dev. of 7 runs, 10000 loops each)\n",
    "```\n",
    "As expected, the gsw module is now much faster.  It has considerable overhead,\n",
    "though, since going from 1 to 1000 calculations goes from 21 to 50 µs, so even\n",
    "with 1000 calculations 40% of the time is overhead."
   ]
  },
  {
   "cell_type": "markdown",
   "id": "capable-pricing",
   "metadata": {},
   "source": [
    "Now try using the JIT.  It seems the memory allocation has to be done outside,\n",
    "and returning the array is not possible, at least with this simple form.\n",
    "The argument signature supplied to the decorator is not necessary, but\n",
    "perhaps it speeds up the compilation?"
   ]
  },
  {
   "cell_type": "code",
   "execution_count": null,
   "id": "encouraging-publication",
   "metadata": {},
   "outputs": [],
   "source": [
    "rho = C.gsw_rho  # This is necessary.\n",
    "dtype = np.dtype(np.float64)\n",
    "out = np.empty(s.shape, dtype)\n",
    "\n",
    "@numba.njit((numba.float64[:], numba.float64[:], numba.float64[:], numba.float64[:]))\n",
    "def manyrhojit(s, t, p, out):\n",
    "    for i in range(np.shape(s)[0]):\n",
    "        out[i] = rho(s[i], t[i], p[i])"
   ]
  },
  {
   "cell_type": "code",
   "execution_count": null,
   "id": "presidential-latin",
   "metadata": {},
   "outputs": [],
   "source": [
    "dir(C)"
   ]
  },
  {
   "cell_type": "code",
   "execution_count": null,
   "id": "growing-newport",
   "metadata": {},
   "outputs": [],
   "source": [
    "manyrhojit(s, t, p, out)"
   ]
  },
  {
   "cell_type": "code",
   "execution_count": null,
   "id": "greater-mustang",
   "metadata": {},
   "outputs": [],
   "source": [
    "(out == gsw.rho(s, t, p)).all()"
   ]
  },
  {
   "cell_type": "code",
   "execution_count": null,
   "id": "hybrid-viking",
   "metadata": {},
   "outputs": [],
   "source": [
    "%timeit manyrhojit(s, t, p, out)\n"
   ]
  },
  {
   "cell_type": "markdown",
   "id": "polyphonic-agent",
   "metadata": {},
   "source": [
    "It's almost twice as fast as using the gsw module, presumably because\n",
    "there is less overhead; it is not a ufunc.  Try making a ufunc:\n"
   ]
  },
  {
   "cell_type": "code",
   "execution_count": null,
   "id": "upper-freeware",
   "metadata": {},
   "outputs": [],
   "source": [
    "@numba.vectorize\n",
    "def vecrhojit(s, t, p):\n",
    "    return rho(s, t, p)"
   ]
  },
  {
   "cell_type": "code",
   "execution_count": null,
   "id": "centered-assumption",
   "metadata": {},
   "outputs": [],
   "source": [
    "r = vecrhojit(s, t, p)"
   ]
  },
  {
   "cell_type": "code",
   "execution_count": null,
   "id": "respective-northern",
   "metadata": {},
   "outputs": [],
   "source": [
    "(r == out).all()"
   ]
  },
  {
   "cell_type": "code",
   "execution_count": null,
   "id": "palestinian-rhythm",
   "metadata": {},
   "outputs": [],
   "source": [
    "%timeit vecrhojit(s, t, p)\n",
    "%timeit vecrhojit(35, 25, 1600)"
   ]
  },
  {
   "cell_type": "markdown",
   "id": "forced-valuable",
   "metadata": {},
   "source": [
    "Wow! It's still faster than the gsw version, both for vectors and for scalars!\n",
    "Even with the extra ufunc machinery, it's as fast as the version specialized to\n",
    "1-D arrays.  Check that broadcasting works:"
   ]
  },
  {
   "cell_type": "code",
   "execution_count": null,
   "id": "fitting-supervisor",
   "metadata": {},
   "outputs": [],
   "source": [
    "rr = vecrhojit(s.reshape((2, 500)), t[:500], 10)\n",
    "print(rr.shape)"
   ]
  },
  {
   "cell_type": "markdown",
   "id": "b8744dfb",
   "metadata": {},
   "source": [
    "## Can we import from the gsw-Python dll?"
   ]
  },
  {
   "cell_type": "code",
   "execution_count": null,
   "id": "780cb85a",
   "metadata": {},
   "outputs": [],
   "source": [
    "dllname = gsw._gsw_ufuncs.__file__\n",
    "\n",
    "ffip = cffi.FFI()\n",
    "ffip.cdef(\"\"\"\n",
    "     double gsw_rho(double s, double t, double p);\n",
    " \"\"\")\n",
    "Cp = ffip.dlopen(dllname)\n",
    "s, t, p = 35.0, 25.0, 1600.0\n",
    "rho = Cp.gsw_rho(s, t, p)\n",
    "print(type(Cp))\n",
    "print(rho)"
   ]
  },
  {
   "cell_type": "code",
   "execution_count": null,
   "id": "fd92330c",
   "metadata": {},
   "outputs": [],
   "source": [
    "%timeit Cp.gsw_rho(s, t, p)"
   ]
  },
  {
   "cell_type": "code",
   "execution_count": null,
   "id": "d98607b6",
   "metadata": {},
   "outputs": [],
   "source": [
    "@numba.njit\n",
    "def pass_in(func, args):\n",
    "    return func(*args)\n",
    "\n",
    "@numba.njit\n",
    "def pass_in3(func, s, t, p):\n",
    "    return func(s, t, p)\n",
    "\n",
    "pass_in(Cp.gsw_rho, (s, t, p))"
   ]
  },
  {
   "cell_type": "code",
   "execution_count": null,
   "id": "4ff01957",
   "metadata": {},
   "outputs": [],
   "source": [
    "func = Cp.gsw_rho\n",
    "%timeit pass_in(Cp.gsw_rho, (s, t, p))\n",
    "%timeit pass_in(func, (s, t, p))\n",
    "%timeit pass_in3(func, s, t, p)"
   ]
  },
  {
   "cell_type": "code",
   "execution_count": null,
   "id": "2e7f1b28",
   "metadata": {},
   "outputs": [],
   "source": [
    "func = Cp.gsw_rho  #this name resolution has to be outside the jitted function\n",
    "@numba.njit\n",
    "def no_pass_in(args):\n",
    "    return func(*args)\n",
    "\n",
    "%timeit no_pass_in((s, t, p))"
   ]
  },
  {
   "cell_type": "code",
   "execution_count": null,
   "id": "c6d2b92b",
   "metadata": {},
   "outputs": [],
   "source": [
    "@numba.njit\n",
    "def no_pass_in3(s, t, p):\n",
    "    return func(s, t, p)\n",
    "%timeit no_pass_in3(s, t, p)"
   ]
  },
  {
   "cell_type": "markdown",
   "id": "fe2eb8e7",
   "metadata": {},
   "source": [
    "There is significant overhead in unpacking the tuple instead of putting\n",
    "the three scalar arguments on the command line."
   ]
  },
  {
   "cell_type": "markdown",
   "id": "89884c71",
   "metadata": {},
   "source": [
    "## Go through ctypes instead of cffi?"
   ]
  },
  {
   "cell_type": "code",
   "execution_count": null,
   "id": "5970cf82",
   "metadata": {},
   "outputs": [],
   "source": [
    "import ctypes\n",
    "gswlib = ctypes.cdll.LoadLibrary(dllname)"
   ]
  },
  {
   "cell_type": "code",
   "execution_count": null,
   "id": "8c84650f",
   "metadata": {},
   "outputs": [],
   "source": [
    "crho = gswlib.gsw_rho\n",
    "crho.restype = ctypes.c_double\n",
    "crho.argtypes = (ctypes.c_double, ctypes.c_double, ctypes.c_double)"
   ]
  },
  {
   "cell_type": "code",
   "execution_count": null,
   "id": "e463930e",
   "metadata": {},
   "outputs": [],
   "source": [
    "crho(s, t, p)"
   ]
  },
  {
   "cell_type": "code",
   "execution_count": null,
   "id": "1471b0b9",
   "metadata": {},
   "outputs": [],
   "source": [
    "%timeit crho(s, t, p)"
   ]
  },
  {
   "cell_type": "code",
   "execution_count": null,
   "id": "a71a8f1f",
   "metadata": {},
   "outputs": [],
   "source": [
    "@numba.njit\n",
    "def no_pass_ctypes(s, t, p):\n",
    "    return crho(s, t, p)\n",
    "\n",
    "%timeit no_pass_ctypes(s, t, p)"
   ]
  },
  {
   "cell_type": "code",
   "execution_count": null,
   "id": "55d61a31",
   "metadata": {},
   "outputs": [],
   "source": [
    "%timeit pass_in3(crho, s, t, p)"
   ]
  },
  {
   "cell_type": "markdown",
   "id": "6b2b9640",
   "metadata": {},
   "source": [
    "The \"no_pass_in\" mode is slightly faster with cffi; but the pass_in mode\n",
    "is **much** faster with ctypes!  Pass-in is still slower by about a factor of 7, \n",
    "though."
   ]
  },
  {
   "cell_type": "markdown",
   "id": "5fe4b168",
   "metadata": {},
   "source": [
    "## Try WAP (Wrapper Address Protocol)\n",
    "\n",
    "https://docs.python.org/3/library/ctypes.html#loading-dynamic-link-libraries\n"
   ]
  },
  {
   "cell_type": "code",
   "execution_count": null,
   "id": "e3bc01d6",
   "metadata": {},
   "outputs": [],
   "source": [
    "class Gswlib_rho(numba.types.WrapperAddressProtocol):\n",
    "    def __wrapper_address__(self):\n",
    "        return ctypes.cast(gswlib.gsw_rho, ctypes.c_voidp).value\n",
    "    def signature(self):\n",
    "        return numba.float64(numba.float64, numba.float64, numba.float64)\n",
    "    \n",
    "gswlib_rho = Gswlib_rho()\n",
    "\n",
    "@numba.njit\n",
    "def pass_in_WAP(func, s, t, p):\n",
    "    return func(s, t, p)\n",
    "\n",
    "@numba.njit\n",
    "def no_pass_in_WAP(s, t, p):\n",
    "    return gswlib_rho(s, t, p)\n",
    "\n",
    "print(pass_in_WAP(gswlib_rho, s, t, p))\n",
    "%timeit pass_in_WAP(gswlib_rho, s, t, p)\n",
    "%timeit no_pass_in_WAP(s, t, p)"
   ]
  },
  {
   "cell_type": "markdown",
   "id": "13cf9231",
   "metadata": {},
   "source": [
    "That is dissappointing; it is faster than cffi pass-in but slower \n",
    "than the unadorned ctypes pass-in (1.55 µs).  (The WAP also makes it\n",
    "slightly slower in no-pass-in mode.)"
   ]
  },
  {
   "cell_type": "markdown",
   "id": "7e0d8fa6",
   "metadata": {},
   "source": [
    "## Ctypes and njit"
   ]
  },
  {
   "cell_type": "code",
   "execution_count": null,
   "id": "01d30562",
   "metadata": {},
   "outputs": [],
   "source": [
    "from neutral_surfaces._densjmd95 import rho as ndrho\n",
    "%timeit ndrho(s, t, p)\n",
    "%timeit crho(s, t, p)\n",
    "%timeit no_pass_ctypes(s, t, p)"
   ]
  },
  {
   "cell_type": "markdown",
   "id": "7e9cfffb",
   "metadata": {},
   "source": [
    "Review above: plain ctypes is slow; wrapping it in a jit function makes it as fast as anything; and the full-jit jmd95 rho is similar in speed to jit(ctypes(gsw))"
   ]
  },
  {
   "cell_type": "code",
   "execution_count": null,
   "id": "726d8d56",
   "metadata": {},
   "outputs": [],
   "source": [
    "cspecvol = gswlib.gsw_specvol\n",
    "cspecvol.restype = ctypes.c_double\n",
    "cspecvol.argtypes = (ctypes.c_double, ctypes.c_double, ctypes.c_double) "
   ]
  },
  {
   "cell_type": "code",
   "execution_count": null,
   "id": "31ea328e",
   "metadata": {},
   "outputs": [],
   "source": [
    "print(crho(s, t, p), cspecvol(s, t, p))"
   ]
  },
  {
   "cell_type": "markdown",
   "id": "97f4029b",
   "metadata": {},
   "source": [
    "### Test: in no-pass mode, can we change the function?"
   ]
  },
  {
   "cell_type": "code",
   "execution_count": null,
   "id": "7ad7c0db",
   "metadata": {},
   "outputs": [],
   "source": [
    "@numba.njit\n",
    "def wrap_somefunc(s, t, p):\n",
    "    return somefunc(s, t, p)\n",
    "\n",
    "somefunc = cspecvol\n",
    "print(wrap_somefunc(s, t, p))\n",
    "%timeit wrap_somefunc(s, t, p)\n",
    "\n",
    "somefunc = crho\n",
    "print(wrap_somefunc(s, t, p))\n",
    "%timeit wrap_somefunc(s, t, p)"
   ]
  },
  {
   "cell_type": "markdown",
   "id": "59bf228b",
   "metadata": {},
   "source": [
    "**DANGER:** we see that the actual function is compiled in the first time the wrapper is called.  Changing what the name \"somefunc\" points to after that first encounter has no\n",
    "effect."
   ]
  },
  {
   "cell_type": "markdown",
   "id": "8ae9717f",
   "metadata": {},
   "source": [
    "Try putting the switching logic inside the wrapper."
   ]
  },
  {
   "cell_type": "code",
   "execution_count": null,
   "id": "14c46083",
   "metadata": {},
   "outputs": [],
   "source": [
    "funcs = [crho, cspecvol]  # doesn't work; \"reflected list\" as global\n",
    "funcs = (crho, cspecvol)\n",
    "\n",
    "@numba.njit\n",
    "def wrap_funclist(ind, s, t, p):\n",
    "    return funcs[ind](s, t, p)\n",
    "\n",
    "print(wrap_funclist(0, s, t, p), wrap_funclist(1, s, t, p))\n",
    "%timeit wrap_funclist(0, s, t, p)\n",
    "%timeit wrap_funclist(1, s, t, p)"
   ]
  },
  {
   "cell_type": "markdown",
   "id": "75b6bae7",
   "metadata": {},
   "source": [
    "**Bingo!** That looks very promising; we have nearly the same speed as with pure no-pass mode, but we can select an entry from a global list.  Again, though, the limitation is that whatever that list is when the jitting occurs will determine its contents for the rest of the run."
   ]
  },
  {
   "cell_type": "markdown",
   "id": "c09b7cb6",
   "metadata": {},
   "source": [
    "https://stackoverflow.com/questions/44131691/how-to-clear-cache-or-force-recompilation-in-numba\n",
    "\n",
    "https://numba.pydata.org/numba-doc/dev/user/faq.html\n",
    "\n",
    "Try using `recompile()` method:"
   ]
  },
  {
   "cell_type": "code",
   "execution_count": null,
   "id": "80ee575a",
   "metadata": {},
   "outputs": [],
   "source": [
    "@numba.njit\n",
    "def wrap_somefunc(s, t, p):\n",
    "    return somefunc(s, t, p)\n",
    "\n",
    "somefunc = cspecvol\n",
    "wrap_somefunc.recompile()\n",
    "print(wrap_somefunc(s, t, p))\n",
    "%timeit wrap_somefunc(s, t, p)\n",
    "\n",
    "somefunc = crho\n",
    "wrap_somefunc.recompile()\n",
    "print(wrap_somefunc(s, t, p))\n",
    "%timeit wrap_somefunc(s, t, p)\n",
    "print(\"recompilation time:\")\n",
    "%timeit wrap_somefunc.recompile()"
   ]
  },
  {
   "cell_type": "markdown",
   "id": "67c41509",
   "metadata": {},
   "source": [
    "That looks like a reasonable alternative that could be used either in no-pass mode, as above, or with the method of passing in a tuple of functions, if we wanted to be able to register new functions in a new tuple of options.  It requires keeping track of all functions that need to be recompiled based on an input argument, all handled in the top-level function.  It looks like it adds at least 22 ms to that top-level function for each such recompilation; not a big deal.  Probably consolidating the low-level functions into a minimum number will speed up both the recompilations and the execution."
   ]
  },
  {
   "cell_type": "code",
   "execution_count": null,
   "id": "41fe5cd0",
   "metadata": {},
   "outputs": [],
   "source": []
  }
 ],
 "metadata": {
  "kernelspec": {
   "display_name": "Python 3",
   "language": "python",
   "name": "python3"
  },
  "language_info": {
   "codemirror_mode": {
    "name": "ipython",
    "version": 3
   },
   "file_extension": ".py",
   "mimetype": "text/x-python",
   "name": "python",
   "nbconvert_exporter": "python",
   "pygments_lexer": "ipython3",
   "version": "3.7.10"
  }
 },
 "nbformat": 4,
 "nbformat_minor": 5
}
