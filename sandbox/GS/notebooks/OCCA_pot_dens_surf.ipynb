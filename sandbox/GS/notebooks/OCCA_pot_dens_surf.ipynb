{
 "cells": [
  {
   "cell_type": "code",
   "execution_count": 1,
   "id": "aa4574ab",
   "metadata": {},
   "outputs": [],
   "source": [
    "#%matplotlib notebook\n",
    "%matplotlib inline\n",
    "\n",
    "import numpy as np\n",
    "import xarray as xr\n",
    "import matplotlib.pyplot as plt\n",
    "\n",
    "import gsw\n",
    "from neutral_surfaces import pot_dens_surf\n",
    "#from neutral_surfaces._densjmd95 import rho_ufunc"
   ]
  },
  {
   "cell_type": "code",
   "execution_count": 8,
   "id": "9e4293eb",
   "metadata": {},
   "outputs": [],
   "source": [
    "OCCA_dir = \"~/work/data/OCCA/\"\n",
    "xrs = xr.open_dataset(OCCA_dir + \"DDsalt.0406annclim.nc\")\n",
    "xrt = xr.open_dataset(OCCA_dir + \"DDtheta.0406annclim.nc\")\n",
    "lon = xrs.Longitude_t.values\n",
    "lat = xrs.Latitude_t.values\n",
    "S = np.require(xrs.salt.values[0] , dtype=np.float64, requirements=\"C\")  # pick first time\n",
    "T = np.require(xrt.theta.values[0], dtype=np.float64, requirements=\"C\")  # pick first time\n",
    "Z = np.require(xrs.Depth_c, dtype=np.float64, requirements=\"C\")     # DEV: currently ignoring distinction between Z and P, until Boussinesq equation of state is ready. \n",
    "S = np.moveaxis(S, 0, -1) # Move vertical axis to end\n",
    "T = np.moveaxis(T, 0, -1) # Move vertical axis to end"
   ]
  },
  {
   "cell_type": "code",
   "execution_count": 12,
   "id": "aff47ba7",
   "metadata": {},
   "outputs": [
    {
     "name": "stdout",
     "output_type": "stream",
     "text": [
      "CPU times: user 186 ms, sys: 16 ms, total: 202 ms\n",
      "Wall time: 199 ms\n"
     ]
    }
   ],
   "source": [
    "# Here we discard the unneeded time axis.\n",
    "%time s, t, p = pot_dens_surf(S, T, Z, 0., 1026., axis=-1, tol=1e-4)\n",
    "# 202 ms ± 3.63 ms per loop (mean ± std. dev. of 7 runs, 10 loops each)  when not overwriting p in vertsolve\n",
    "# 202 ms ± 1.4 ms per loop (mean ± std. dev. of 7 runs, 10 loops each)   when overwriting p in vertsolve"
   ]
  },
  {
   "cell_type": "code",
   "execution_count": 13,
   "id": "d51bed75",
   "metadata": {},
   "outputs": [
    {
     "data": {
      "text/plain": [
       "Text(0.5, 1.0, 'Depth of $\\\\sigma_\\\\theta = 26$ in OCCA')"
      ]
     },
     "execution_count": 13,
     "metadata": {},
     "output_type": "execute_result"
    },
    {
     "data": {
      "image/png": "[encoded data removed]",
      "text/plain": [
       "<Figure size 432x288 with 2 Axes>"
      ]
     },
     "metadata": {
      "needs_background": "light"
     },
     "output_type": "display_data"
    }
   ],
   "source": [
    "fig, ax = plt.subplots()\n",
    "cs = ax.contourf(lon, lat, p)\n",
    "cbar = fig.colorbar(cs, ax=ax)\n",
    "cbar.set_label(\"Pressure [dbar]\")\n",
    "ax.set_title(r\"Depth of $\\sigma_\\theta = 26$ in OCCA\")"
   ]
  },
  {
   "cell_type": "code",
   "execution_count": 6,
   "id": "470d64e2",
   "metadata": {
    "tags": []
   },
   "outputs": [],
   "source": [
    "# %%timeit\n",
    "# s, t, p = pot_dens_surf(xrst.salt.values, \n",
    "#                         xrst.theta.values, \n",
    "#                         xrst.p.values, \n",
    "#                         0., 1026., axis=1, tol=1e-4)"
   ]
  }
 ],
 "metadata": {
  "kernelspec": {
   "display_name": "Python 3",
   "language": "python",
   "name": "python3"
  },
  "language_info": {
   "codemirror_mode": {
    "name": "ipython",
    "version": 3
   },
   "file_extension": ".py",
   "mimetype": "text/x-python",
   "name": "python",
   "nbconvert_exporter": "python",
   "pygments_lexer": "ipython3",
   "version": "3.8.8"
  }
 },
 "nbformat": 4,
 "nbformat_minor": 5
}
